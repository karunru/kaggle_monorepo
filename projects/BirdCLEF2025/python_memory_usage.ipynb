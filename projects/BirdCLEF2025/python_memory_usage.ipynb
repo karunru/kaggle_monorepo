{
 "cells": [
  {
   "metadata": {},
   "cell_type": "markdown",
   "source": [
    "# Python Memory Usage Measurement\n",
    "\n",
    "This notebook explores how to measure memory usage of various Python objects and data structures, along"
   ],
   "id": "d4838510e2c85490"
  },
  {
   "metadata": {},
   "cell_type": "code",
   "outputs": [],
   "execution_count": null,
   "source": [
    "import sys\n",
    "import numpy as np\n",
    "import pandas as"
   ],
   "id": "9f0a2879edca3605"
  },
  {
   "metadata": {},
   "cell_type": "markdown",
   "source": [
    "## Basic Types Memory Usage\n",
    "\n",
    "Using `sys.getsizeof()` function to measure memory"
   ],
   "id": "920973fac7b2eb66"
  },
  {
   "metadata": {},
   "cell_type": "code",
   "outputs": [],
   "execution_count": null,
   "source": [
    "# Integer memory size\n",
    "x = 1\n",
    "print(f\"Integer {x} memory size: {sys.getsizeof(x)} bytes\")\n",
    "\n",
    "# Float memory size\n",
    "y = 1.0\n",
    "print(f\"Float {y} memory size: {sys.getsizeof(y)} bytes\")\n",
    "\n",
    "# String memory size\n",
    "s1 = \"a\"\n",
    "s2 = \"ab\"\n",
    "s3 = \"abc\"\n",
    "print(f\"String '{s1}' memory size: {sys.getsizeof(s1)} bytes\")\n",
    "print(f\"String '{s2}' memory size: {sys.getsizeof(s2)} bytes\")\n",
    "print(f\"String '{s3}' memory size: {sys.getsizeof(s"
   ],
   "id": "5711ac460922e5de"
  },
  {
   "metadata": {},
   "cell_type": "markdown",
   "source": [
    "## Collection Types Memory Usage\n",
    "\n",
    "Measuring memory usage of collection types like lists an"
   ],
   "id": "493a466c06aaa919"
  },
  {
   "metadata": {},
   "cell_type": "code",
   "outputs": [],
   "execution_count": null,
   "source": [
    "# Empty list memory size\n",
    "empty_list = []\n",
    "print(f\"Empty list memory size: {sys.getsizeof(empty_list)} bytes\")\n",
    "\n",
    "# List with elements memory size\n",
    "list_with_items = [1, 2, 3, 4, 5]\n",
    "print(f\"List with 5 elements memory size: {sys.getsizeof(list_with_items)} bytes\")\n",
    "\n",
    "# Empty dictionary memory size\n",
    "empty_dict = {}\n",
    "print(f\"Empty dictionary memory size: {sys.getsizeof(empty_dict)} bytes\")\n",
    "\n",
    "# Dictionary with elements memory size\n",
    "dict_with_items = {\"a\": 1, \"b\": 2, \"c\": 3}\n",
    "print(f\"Dictionary with 3 elements memory size: {sys.getsizeof(dict_with_"
   ],
   "id": "70de78932cad2b52"
  },
  {
   "metadata": {},
   "cell_type": "markdown",
   "source": [
    "## Limitation: Nested Objects Memory Usage\n",
    "\n",
    "A limitation of `sys.getsizeof()` function is that it doesn't calculate the total size of nested objects:"
   ],
   "id": "5778c1671483e760"
  },
  {
   "metadata": {},
   "cell_type": "code",
   "outputs": [],
   "execution_count": null,
   "source": [
    "# Nested list elements are not included\n",
    "nested_list = [[1, 2, 3], [4, 5, 6]]\n",
    "print(f\"Nested list memory size (excluding elements): {sys.getsizeof(nested_list)} bytes\")\n",
    "\n",
    "# Calculate size of each element in the list individually\n",
    "print(f\"First nested list memory size: {sys.getsizeof(nested_list[0])} bytes\")\n",
    "print(f\"Second nested list memory size: {sys.getsizeof(nested_list[1])} bytes\")\n",
    "\n",
    "# Total (still not complete)\n",
    "total_size = sys.getsizeof(nested_list) + sys.getsizeof(nested_list[0]) + sys.getsizeof(nested_list[1])\n",
    "print(f\"Calculated total size: {total"
   ],
   "id": "c8fecc1d3927b30b"
  },
  {
   "metadata": {},
   "cell_type": "markdown",
   "source": [
    "## Recursive Function to Calculate Object Size\n",
    "\n",
    "Implementation of a function that recursively calculates the size of an object:"
   ],
   "id": "c7c28a0cd024b2cc"
  },
  {
   "metadata": {},
   "cell_type": "code",
   "outputs": [],
   "execution_count": null,
   "source": [
    "def get_size(obj, seen=None):\n",
    "    \"\"\"Function to recursively calculate object memory size\"\"\"\n",
    "    # Handle circular references\n",
    "    if seen is None:\n",
    "        seen = set()\n",
    "    \n",
    "    # If object ID already seen, return 0\n",
    "    obj_id = id(obj)\n",
    "    if obj_id in seen:\n",
    "        return 0\n",
    "    \n",
    "    # Record this object as seen\n",
    "    seen.add(obj_id)\n",
    "    \n",
    "    # Get basic size\n",
    "    size = sys.getsizeof(obj)\n",
    "    \n",
    "    # For dictionaries, add size of keys and values\n",
    "    if isinstance(obj, dict):\n",
    "        size += sum(get_size(k, seen) + get_size(v, seen) for k, v in obj.items())\n",
    "    # For lists, tuples, sets, add size of elements\n",
    "    elif hasattr(obj, '__iter__') and not isinstance(obj, (str, bytes, bytearray)):\n",
    "        size += sum(get_size(i, seen) for i in obj)\n",
    "    \n",
    "    return size\n",
    "\n",
    "# Test with dictionaries and lists\n",
    "test_dict = {\"a\": [1, 2, 3], \"b\": {\"c\": 4}}\n",
    "print(f\"Dictionary memory size (standard function): {sys.getsizeof(test_dict)} bytes\")\n",
    "print(f\"Dictionary memory size (recursive function): {get_size(test_dict)} bytes\")"
   ],
   "id": "6fbefe8e40ee7c43"
  },
  {
   "metadata": {},
   "cell_type": "markdown",
   "source": [
    "## NumPy and Pandas Memory Usage\n",
    "\n",
    "Measuring memory usage of NumPy and Pandas objects:"
   ],
   "id": "9f75d65769325220"
  },
  {
   "metadata": {},
   "cell_type": "code",
   "outputs": [],
   "execution_count": null,
   "source": [
    "# NumPy array memory usage\n",
    "arr1 = np.array([1, 2, 3, 4, 5])\n",
    "print(f\"NumPy array (int64) memory size: {arr1.nbytes} bytes\")\n",
    "\n",
    "# With different data type\n",
    "arr2 = np.array([1, 2, 3, 4, 5], dtype=np.int32)\n",
    "print(f\"NumPy array (int32) memory size: {arr2.nbytes} bytes\")\n",
    "\n",
    "# Pandas DataFrame memory usage\n",
    "df = pd.DataFrame({\n",
    "    'A': np.random.rand(1000),\n",
    "    'B': np.random.rand(1000),\n",
    "    'C': np.random.rand(1000)\n",
    "})\n",
    "print(f\"Pandas DataFrame memory usage: {df.memory_usage(deep=True).sum()}"
   ],
   "id": "b15b00305df20462"
  },
  {
   "metadata": {},
   "cell_type": "markdown",
   "source": [
    "## Memory Usage Optimization Techniques\n",
    "\n",
    "Some techniques to optimize memory usage in Python:"
   ],
   "id": "6c0dc7a7512fca6d"
  },
  {
   "metadata": {},
   "cell_type": "code",
   "outputs": [],
   "execution_count": null,
   "source": [
    "# 1. Use appropriate data types\n",
    "arr_float64 = np.ones(1000, dtype=np.float64)\n",
    "arr_float32 = np.ones(1000, dtype=np.float32)\n",
    "print(f\"float64 array memory usage: {arr_float64.nbytes} bytes\")\n",
    "print(f\"float32 array memory usage: {arr_float32.nbytes} bytes\")\n",
    "print(f\"Reduction rate: {100 * (1 - arr_float32.nbytes / arr_float64.nbytes):.1f}%\")\n",
    "\n",
    "# 2. Use categorical type in Pandas\n",
    "df_original = pd.DataFrame({\n",
    "    'text': ['cat', 'dog', 'cat', 'fish', 'dog', 'cat'] * 100\n",
    "})\n",
    "df_category = pd.DataFrame({\n",
    "    'text': pd.Categorical(['cat', 'dog', 'cat', 'fish', 'dog', 'cat'] * 100)\n",
    "})\n",
    "print(f\"Regular string column memory usage: {df_original.memory_usage(deep=True).sum()} bytes\")\n",
    "print(f\"Categorical type memory usage: {df_category.memory_usage(deep=True"
   ],
   "id": "6bd5d365368525bd"
  },
  {
   "metadata": {},
   "cell_type": "markdown",
   "source": [
    "## Summary\n",
    "\n",
    "Main methods for measuring and optimizing memory usage in Python:\n",
    "\n",
    "1. `sys.getsizeof()` function can be used for basic objects\n",
    "2. Recursive approach is needed for complex objects (nested structures)\n",
    "3. NumPy and Pandas have their own memory measurement methods\n",
    "4. Choosing appropriate data types is important for reducing memory usage"
   ],
   "id": "2134566d7d19cd43"
  }
 ],
 "metadata": {
  "kernelspec": {
   "display_name": "Python 3",
   "language": "python",
   "name": "python3"
  },
  "language_info": {
   "codemirror_mode": {
    "name": "ipython",
    "version": 2
   },
   "file_extension": ".py",
   "mimetype": "text/x-python",
   "name": "python",
   "nbconvert_exporter": "python",
   "pygments_lexer": "ipython2",
   "version": "2.7.6"
  }
 },
 "nbformat": 4,
 "nbformat_minor": 5
}
