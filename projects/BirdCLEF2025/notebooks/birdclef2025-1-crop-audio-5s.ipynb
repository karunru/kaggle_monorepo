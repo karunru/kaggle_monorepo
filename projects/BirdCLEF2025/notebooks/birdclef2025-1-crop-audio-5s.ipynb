{
 "cells": [
  {
   "cell_type": "markdown",
   "metadata": {},
   "source": "* Training Notebook [here.](https://www.kaggle.com/code/myso1987/birdclef2025-2-train-baseline-5s)\n* Inference Notebook [here.](https://www.kaggle.com/code/myso1987/birdclef2025-3-submit-baseline-5s)"
  },
  {
   "cell_type": "code",
   "execution_count": null,
   "metadata": {
    "execution": {
     "iopub.execute_input": "2025-03-12T11:26:13.662622Z",
     "iopub.status.busy": "2025-03-12T11:26:13.662365Z",
     "iopub.status.idle": "2025-03-12T11:26:21.010797Z",
     "shell.execute_reply": "2025-03-12T11:26:21.009471Z",
     "shell.execute_reply.started": "2025-03-12T11:26:13.662585Z"
    },
    "papermill": {
     "duration": 7.341238,
     "end_time": "2025-03-12T08:39:35.59324",
     "exception": false,
     "start_time": "2025-03-12T08:39:28.252002",
     "status": "completed"
    },
    "tags": [],
    "trusted": true
   },
   "outputs": [],
   "source": [
    "import os\n",
    "\n",
    "import pandas as pd\n",
    "import torch\n",
    "import torchaudio"
   ]
  },
  {
   "cell_type": "code",
   "execution_count": null,
   "metadata": {
    "execution": {
     "iopub.execute_input": "2025-03-12T11:26:21.01269Z",
     "iopub.status.busy": "2025-03-12T11:26:21.012117Z",
     "iopub.status.idle": "2025-03-12T11:26:21.01759Z",
     "shell.execute_reply": "2025-03-12T11:26:21.016502Z",
     "shell.execute_reply.started": "2025-03-12T11:26:21.012652Z"
    },
    "papermill": {
     "duration": 0.009611,
     "end_time": "2025-03-12T08:39:35.605914",
     "exception": false,
     "start_time": "2025-03-12T08:39:35.596303",
     "status": "completed"
    },
    "tags": [],
    "trusted": true
   },
   "outputs": [],
   "source": [
    "wav_sec = 5\n",
    "sample_rate = 32000\n",
    "min_segment = sample_rate * wav_sec"
   ]
  },
  {
   "cell_type": "code",
   "execution_count": null,
   "metadata": {
    "execution": {
     "iopub.execute_input": "2025-03-12T11:26:21.019113Z",
     "iopub.status.busy": "2025-03-12T11:26:21.018715Z",
     "iopub.status.idle": "2025-03-12T11:26:21.226321Z",
     "shell.execute_reply": "2025-03-12T11:26:21.225409Z",
     "shell.execute_reply.started": "2025-03-12T11:26:21.019074Z"
    },
    "papermill": {
     "duration": 0.212968,
     "end_time": "2025-03-12T08:39:35.821436",
     "exception": false,
     "start_time": "2025-03-12T08:39:35.608468",
     "status": "completed"
    },
    "tags": [],
    "trusted": true
   },
   "outputs": [],
   "source": [
    "root_path = \"../input/birdclef-2025/\"\n",
    "input_path = root_path + \"/train_audio/\"\n",
    "out_path = \"./train_raw\" + str(wav_sec) + \"/\"\n",
    "backend = \"soundfile\"\n",
    "\n",
    "try:\n",
    "    os.mkdir(out_path)\n",
    "except FileExistsError:\n",
    "    pass\n",
    "\n",
    "train_meta = pd.read_csv(root_path + \"train.csv\")"
   ]
  },
  {
   "cell_type": "code",
   "execution_count": null,
   "metadata": {
    "execution": {
     "iopub.execute_input": "2025-03-12T11:26:21.228352Z",
     "iopub.status.busy": "2025-03-12T11:26:21.228024Z",
     "iopub.status.idle": "2025-03-12T11:26:21.234138Z",
     "shell.execute_reply": "2025-03-12T11:26:21.233082Z",
     "shell.execute_reply.started": "2025-03-12T11:26:21.228326Z"
    },
    "papermill": {
     "duration": 0.012082,
     "end_time": "2025-03-12T08:39:35.836095",
     "exception": false,
     "start_time": "2025-03-12T08:39:35.824013",
     "status": "completed"
    },
    "tags": [],
    "trusted": true
   },
   "outputs": [],
   "source": [
    "def crop_and_save(index):\n",
    "    sig, _ = torchaudio.load(input_path + train_meta.iloc[index].filename, backend=backend)\n",
    "\n",
    "    if sig.shape[1] <= min_segment:\n",
    "        sig = torch.concat([sig, torch.zeros(1, min_segment - sig.shape[1])], dim=1)\n",
    "\n",
    "    dir_path = out_path + train_meta.iloc[index].filename.split(\"/\")[0] + \"/\"\n",
    "    if not os.path.exists(dir_path):\n",
    "        os.mkdir(dir_path)\n",
    "\n",
    "    tmp_savename = out_path + train_meta.iloc[index].filename\n",
    "    torchaudio.save(uri=tmp_savename, src=sig[:, :min_segment], sample_rate=sample_rate, backend=backend)"
   ]
  },
  {
   "cell_type": "code",
   "execution_count": null,
   "metadata": {
    "execution": {
     "iopub.execute_input": "2025-03-12T11:26:21.235718Z",
     "iopub.status.busy": "2025-03-12T11:26:21.235407Z"
    },
    "papermill": {
     "duration": 2676.806144,
     "end_time": "2025-03-12T09:24:12.644723",
     "exception": false,
     "start_time": "2025-03-12T08:39:35.838579",
     "status": "completed"
    },
    "tags": [],
    "trusted": true
   },
   "outputs": [],
   "source": [
    "for index in range(len(train_meta)):\n",
    "    crop_and_save(index)"
   ]
  }
 ],
 "metadata": {
  "kaggle": {
   "accelerator": "none",
   "dataSources": [
    {
     "databundleVersionId": 11361821,
     "sourceId": 91844,
     "sourceType": "competition"
    }
   ],
   "dockerImageVersionId": 30918,
   "isGpuEnabled": false,
   "isInternetEnabled": true,
   "language": "python",
   "sourceType": "notebook"
  },
  "kernelspec": {
   "display_name": "Python 3",
   "language": "python",
   "name": "python3"
  },
  "language_info": {
   "codemirror_mode": {
    "name": "ipython",
    "version": 3
   },
   "file_extension": ".py",
   "mimetype": "text/x-python",
   "name": "python",
   "nbconvert_exporter": "python",
   "pygments_lexer": "ipython3",
   "version": "3.10.12"
  },
  "papermill": {
   "default_parameters": {},
   "duration": 2690.020694,
   "end_time": "2025-03-12T09:24:15.312509",
   "environment_variables": {},
   "exception": null,
   "input_path": "__notebook__.ipynb",
   "output_path": "__notebook__.ipynb",
   "parameters": {},
   "start_time": "2025-03-12T08:39:25.291815",
   "version": "2.6.0"
  }
 },
 "nbformat": 4,
 "nbformat_minor": 4
}