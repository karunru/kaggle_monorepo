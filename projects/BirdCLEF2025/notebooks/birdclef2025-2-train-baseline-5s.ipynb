{
 "cells": [
  {
   "cell_type": "markdown",
   "id": "292ed177-acda-48a4-8bec-ba3a356db2ec",
   "metadata": {},
   "source": "* Inference Notebook [here.](https://www.kaggle.com/code/myso1987/birdclef2025-3-submit-baseline-5s)\n* Dataset Creation [here](https://www.kaggle.com/code/myso1987/birdclef2025-1-crop-audio-5s)"
  },
  {
   "cell_type": "markdown",
   "id": "abd4f5a2-4727-4e0d-9a00-1e0804e94950",
   "metadata": {},
   "source": "### Import"
  },
  {
   "cell_type": "code",
   "execution_count": null,
   "id": "97143d54-f0d6-48e6-be61-33c7ba65c5bc",
   "metadata": {
    "execution": {
     "iopub.execute_input": "2025-03-12T12:43:52.075873Z",
     "iopub.status.busy": "2025-03-12T12:43:52.075551Z",
     "iopub.status.idle": "2025-03-12T12:43:52.081294Z",
     "shell.execute_reply": "2025-03-12T12:43:52.080397Z",
     "shell.execute_reply.started": "2025-03-12T12:43:52.075848Z"
    },
    "trusted": true
   },
   "outputs": [],
   "source": [
    "import sys\n",
    "\n",
    "sys.path.append(\"/kaggle/usr/lib/kaggle_metric_utilities\")\n",
    "sys.path.append(\"/kaggle/usr/lib/birdclef-roc-auc\")\n",
    "import os\n",
    "\n",
    "import matplotlib.pyplot as plt\n",
    "import numpy as np\n",
    "import pandas as pd\n",
    "import torch\n",
    "import torchaudio\n",
    "import torchaudio.transforms as AT\n",
    "from metric import score\n",
    "from sklearn.model_selection import train_test_split\n",
    "from torch import nn, optim\n",
    "from torch.utils.data import DataLoader, Dataset\n",
    "from torchvision import models\n",
    "from tqdm import tqdm"
   ]
  },
  {
   "cell_type": "markdown",
   "id": "24abd7e9-6b65-433d-b6de-9eb16262e5c0",
   "metadata": {},
   "source": "### Config"
  },
  {
   "cell_type": "code",
   "execution_count": null,
   "id": "6def156b-93af-4407-a9c6-576a8dd752a7",
   "metadata": {
    "execution": {
     "iopub.execute_input": "2025-03-12T12:43:52.082572Z",
     "iopub.status.busy": "2025-03-12T12:43:52.082296Z",
     "iopub.status.idle": "2025-03-12T12:43:52.104098Z",
     "shell.execute_reply": "2025-03-12T12:43:52.103241Z",
     "shell.execute_reply.started": "2025-03-12T12:43:52.08255Z"
    },
    "trusted": true
   },
   "outputs": [],
   "source": [
    "wav_sec = 5\n",
    "sample_rate = 32000\n",
    "min_segment = sample_rate * wav_sec\n",
    "\n",
    "epochs = 8"
   ]
  },
  {
   "cell_type": "code",
   "execution_count": null,
   "id": "48c68a7f-d824-4682-b504-d84e87b19dcf",
   "metadata": {
    "execution": {
     "iopub.execute_input": "2025-03-12T12:43:52.105782Z",
     "iopub.status.busy": "2025-03-12T12:43:52.105495Z",
     "iopub.status.idle": "2025-03-12T12:43:52.242123Z",
     "shell.execute_reply": "2025-03-12T12:43:52.241305Z",
     "shell.execute_reply.started": "2025-03-12T12:43:52.105761Z"
    },
    "trusted": true
   },
   "outputs": [],
   "source": [
    "root_path = \"../input/birdclef-2025/\"\n",
    "input_path = \"/kaggle/input/birdclef-2025-train-data/train_raw5/\"\n",
    "\n",
    "class_labels = sorted(os.listdir(\"../input/birdclef-2025/train_audio/\"))\n",
    "\n",
    "train_meta = pd.read_csv(root_path + \"train.csv\")\n",
    "display(train_meta.head())"
   ]
  },
  {
   "cell_type": "markdown",
   "id": "f5479cde-d6c8-44ef-b1ea-4ce2dfb5fdad",
   "metadata": {},
   "source": "### Utilities"
  },
  {
   "cell_type": "code",
   "execution_count": null,
   "id": "52d1749b-4341-4d1c-b5e1-8c83c69c0869",
   "metadata": {
    "execution": {
     "iopub.execute_input": "2025-03-12T12:43:52.243408Z",
     "iopub.status.busy": "2025-03-12T12:43:52.243133Z",
     "iopub.status.idle": "2025-03-12T12:43:52.249422Z",
     "shell.execute_reply": "2025-03-12T12:43:52.248588Z",
     "shell.execute_reply.started": "2025-03-12T12:43:52.243387Z"
    },
    "trusted": true
   },
   "outputs": [],
   "source": [
    "def plot_spectrogram(specgram, title=None, ylabel=\"freq_bin\"):\n",
    "    fig, axs = plt.subplots(1, 1)\n",
    "    axs.set_title(title or \"Spectrogram (db)\")\n",
    "    axs.set_ylabel(ylabel)\n",
    "    axs.set_xlabel(\"frame\")\n",
    "    im = axs.imshow((specgram), origin=\"lower\", aspect=\"auto\")\n",
    "    fig.colorbar(im, ax=axs)\n",
    "    plt.show(block=False)\n",
    "\n",
    "\n",
    "def cal_score(label, pred):\n",
    "    label = np.concatenate(label)\n",
    "    pred = np.concatenate(pred)\n",
    "\n",
    "    label_df = pd.DataFrame(label > 0.5, columns=class_labels)\n",
    "    pred_df = pd.DataFrame(pred, columns=class_labels)\n",
    "    label_df[\"id\"] = np.arange(len(label_df))\n",
    "    pred_df[\"id\"] = np.arange(len(pred_df))\n",
    "\n",
    "    return score(label_df, pred_df, row_id_column_name=\"id\")\n",
    "\n",
    "\n",
    "device = torch.device(\"cuda\" if torch.cuda.is_available() else \"cpu\")"
   ]
  },
  {
   "cell_type": "markdown",
   "id": "a1bcbf1a-ddcb-4fd3-b06e-11ac3e934ae1",
   "metadata": {},
   "source": "### Dataset"
  },
  {
   "cell_type": "code",
   "execution_count": null,
   "id": "6aa677c7-775c-4966-8ae9-4d82663c5e1e",
   "metadata": {
    "execution": {
     "iopub.execute_input": "2025-03-12T12:43:52.250511Z",
     "iopub.status.busy": "2025-03-12T12:43:52.250206Z",
     "iopub.status.idle": "2025-03-12T12:43:53.191372Z",
     "shell.execute_reply": "2025-03-12T12:43:53.190339Z",
     "shell.execute_reply.started": "2025-03-12T12:43:52.250481Z"
    },
    "trusted": true
   },
   "outputs": [],
   "source": [
    "n_fft = 1024\n",
    "win_length = 1024\n",
    "hop_length = 512\n",
    "f_min = 20\n",
    "f_max = 15000\n",
    "n_mels = 128\n",
    "\n",
    "mel_spectrogram = AT.MelSpectrogram(\n",
    "    sample_rate=sample_rate,\n",
    "    n_fft=n_fft,\n",
    "    win_length=win_length,\n",
    "    hop_length=hop_length,\n",
    "    center=True,\n",
    "    f_min=f_min,\n",
    "    f_max=f_max,\n",
    "    pad_mode=\"reflect\",\n",
    "    power=2.0,\n",
    "    norm=\"slaney\",\n",
    "    n_mels=n_mels,\n",
    "    mel_scale=\"htk\",\n",
    "    # normalized=True\n",
    ")\n",
    "\n",
    "\n",
    "class BirdclefDataset(Dataset):\n",
    "    def __init__(self, df, mode=\"train\"):\n",
    "        self.df = df\n",
    "        self.mode = mode\n",
    "\n",
    "    def normalize_std(self, spec, eps=1e-23):\n",
    "        mean = torch.mean(spec)\n",
    "        std = torch.std(spec)\n",
    "        return torch.where(std == 0, spec - mean, (spec - mean) / (std + eps))\n",
    "\n",
    "    def __getitem__(self, index):\n",
    "        sig, _ = torchaudio.load(uri=input_path + self.df.iloc[index].filename, backend=\"soundfile\")\n",
    "        sig = sig / torch.max(torch.abs(sig))\n",
    "        sig = sig + 1.5849e-05 * (torch.rand(1, min_segment) - 0.5)\n",
    "        melspec = mel_spectrogram(sig)\n",
    "        melspec = torch.log(melspec)\n",
    "        melspec = self.normalize_std(melspec)\n",
    "\n",
    "        target = self.df.iloc[index].primary_label\n",
    "        y = np.array([1 if item == target else 0 for item in class_labels])\n",
    "\n",
    "        return melspec, y\n",
    "\n",
    "    def __len__(self):\n",
    "        return len(self.df)\n",
    "\n",
    "\n",
    "temp_dataset = BirdclefDataset(train_meta, mode=\"train\")\n",
    "temp_loader = DataLoader(temp_dataset, batch_size=24, shuffle=False, num_workers=1, drop_last=True)\n",
    "for X, y in temp_loader:\n",
    "    break\n",
    "\n",
    "plot_spectrogram(X[0, 0, :, :])\n",
    "del temp_dataset, temp_loader, X, y"
   ]
  },
  {
   "cell_type": "markdown",
   "id": "f8189711-5d9d-4a90-b187-556b81fdc106",
   "metadata": {},
   "source": "### Model"
  },
  {
   "cell_type": "code",
   "execution_count": null,
   "id": "b09a58c1-2001-4b44-99a8-f88d99dedd04",
   "metadata": {
    "execution": {
     "iopub.execute_input": "2025-03-12T12:43:53.192729Z",
     "iopub.status.busy": "2025-03-12T12:43:53.19244Z",
     "iopub.status.idle": "2025-03-12T12:43:53.63744Z",
     "shell.execute_reply": "2025-03-12T12:43:53.636772Z",
     "shell.execute_reply.started": "2025-03-12T12:43:53.192692Z"
    },
    "trusted": true
   },
   "outputs": [],
   "source": [
    "class Model_resnet34(nn.Module):\n",
    "    def __init__(self, pretrained=False):\n",
    "        super().__init__()\n",
    "        model = models.resnet34(pretrained=pretrained)\n",
    "        num_ftrs = model.fc.in_features\n",
    "        model.fc = nn.Linear(num_ftrs, len(class_labels))\n",
    "        self.model = model\n",
    "\n",
    "    def forward(self, x):\n",
    "        x = torch.cat((x, x, x), 1)\n",
    "        x = self.model(x)\n",
    "        return x\n",
    "\n",
    "\n",
    "model = Model_resnet34(pretrained=True)\n",
    "model = model.to(device)"
   ]
  },
  {
   "cell_type": "markdown",
   "id": "550b6e28-c540-4ed6-8edb-3ec98aabe8fe",
   "metadata": {},
   "source": "### Train"
  },
  {
   "cell_type": "code",
   "execution_count": null,
   "id": "4d340446-5417-400a-aee1-73734902db17",
   "metadata": {
    "execution": {
     "iopub.execute_input": "2025-03-12T12:43:53.639601Z",
     "iopub.status.busy": "2025-03-12T12:43:53.63938Z",
     "iopub.status.idle": "2025-03-12T12:43:53.657755Z",
     "shell.execute_reply": "2025-03-12T12:43:53.657024Z",
     "shell.execute_reply.started": "2025-03-12T12:43:53.639582Z"
    },
    "trusted": true
   },
   "outputs": [],
   "source": [
    "train_df, val_df = train_test_split(train_meta, test_size=0.2, random_state=42)\n",
    "\n",
    "train_dataset = BirdclefDataset(train_df, mode=\"train\")\n",
    "train_loader = DataLoader(train_dataset, batch_size=24, shuffle=True, num_workers=2, drop_last=True)\n",
    "\n",
    "val_dataset = BirdclefDataset(val_df, mode=\"val\")\n",
    "val_loader = DataLoader(val_dataset, batch_size=24, shuffle=False, num_workers=1, drop_last=True)"
   ]
  },
  {
   "cell_type": "code",
   "execution_count": null,
   "id": "94d58a58-2bc0-4817-8163-7138ddb63972",
   "metadata": {
    "execution": {
     "iopub.execute_input": "2025-03-12T12:43:53.659153Z",
     "iopub.status.busy": "2025-03-12T12:43:53.658813Z",
     "iopub.status.idle": "2025-03-12T12:49:33.74715Z",
     "shell.execute_reply": "2025-03-12T12:49:33.745846Z",
     "shell.execute_reply.started": "2025-03-12T12:43:53.659122Z"
    },
    "trusted": true
   },
   "outputs": [],
   "source": [
    "criterion = nn.CrossEntropyLoss()\n",
    "optimizer = optim.Adam(model.parameters(), lr=0.001)\n",
    "\n",
    "for epoch in range(epochs):\n",
    "    model.train()\n",
    "    pred_train = []\n",
    "    label_train = []\n",
    "    running_loss = 0.0\n",
    "    for melspecs, labels in tqdm(train_loader):\n",
    "        melspecs, labels = melspecs.to(device), labels.to(device)\n",
    "        optimizer.zero_grad()\n",
    "        outputs = model(melspecs)\n",
    "        loss = criterion(outputs, labels.to(torch.float32))\n",
    "        loss.backward()\n",
    "        optimizer.step()\n",
    "        running_loss += loss.item()\n",
    "        pred_train.append(torch.softmax(outputs, dim=1).detach().cpu().numpy())\n",
    "        label_train.append(labels.detach().cpu().numpy())\n",
    "\n",
    "    pred_val = []\n",
    "    label_val = []\n",
    "    running_loss_val = 0.0\n",
    "    model.eval()\n",
    "    with torch.no_grad():\n",
    "        for melspecs, labels in val_loader:\n",
    "            melspecs, labels = melspecs.to(device), labels.to(device)\n",
    "            outputs = model(melspecs)\n",
    "            loss = criterion(outputs, labels.to(torch.float32))\n",
    "            running_loss_val += loss.item()\n",
    "            pred_val.append(torch.softmax(outputs, dim=1).detach().cpu().numpy())\n",
    "            label_val.append(labels.detach().cpu().numpy())\n",
    "\n",
    "    auc_train_val = cal_score(label_train, pred_train)\n",
    "    auc_val = cal_score(label_val, pred_val)\n",
    "    print(\n",
    "        f\"Epoch {epoch + 1}/{epochs}, Loss: {running_loss / len(train_loader):.4f}, Loss_val: {running_loss_val / len(train_loader):.4f}\"\n",
    "    )\n",
    "    print(f\"Auc: {auc_train_val:.2f}% Auc_val: {auc_val:.2f}%\")\n",
    "\n",
    "torch.save(model.state_dict(), \"baseline.pth\")"
   ]
  }
 ],
 "metadata": {
  "kaggle": {
   "accelerator": "gpu",
   "dataSources": [
    {
     "databundleVersionId": 11361821,
     "isSourceIdPinned": false,
     "sourceId": 91844,
     "sourceType": "competition"
    },
    {
     "datasetId": 6852193,
     "sourceId": 11006697,
     "sourceType": "datasetVersion"
    },
    {
     "sourceId": 167220511,
     "sourceType": "kernelVersion"
    },
    {
     "sourceId": 189366517,
     "sourceType": "kernelVersion"
    },
    {
     "sourceId": 227187663,
     "sourceType": "kernelVersion"
    }
   ],
   "dockerImageVersionId": 30919,
   "isGpuEnabled": true,
   "isInternetEnabled": true,
   "language": "python",
   "sourceType": "notebook"
  },
  "kernelspec": {
   "display_name": "Python 3",
   "language": "python",
   "name": "python3"
  },
  "language_info": {
   "codemirror_mode": {
    "name": "ipython",
    "version": 3
   },
   "file_extension": ".py",
   "mimetype": "text/x-python",
   "name": "python",
   "nbconvert_exporter": "python",
   "pygments_lexer": "ipython3",
   "version": "3.10.12"
  }
 },
 "nbformat": 4,
 "nbformat_minor": 4
}